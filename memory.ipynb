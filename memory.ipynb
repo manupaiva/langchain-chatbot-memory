{
 "cells": [
  {
   "cell_type": "code",
   "execution_count": 8,
   "metadata": {},
   "outputs": [
    {
     "data": {
      "text/plain": [
       "True"
      ]
     },
     "execution_count": 8,
     "metadata": {},
     "output_type": "execute_result"
    }
   ],
   "source": [
    "from dotenv import load_dotenv\n",
    "from langchain_openai import ChatOpenAI\n",
    "import bs4\n",
    "from langchain import hub\n",
    "from langchain.chains import create_retrieval_chain\n",
    "from langchain.chains.combine_documents import create_stuff_documents_chain\n",
    "from langchain_chroma import Chroma\n",
    "from langchain_community.document_loaders import WebBaseLoader\n",
    "from langchain_core.prompts import ChatPromptTemplate\n",
    "from langchain_openai import OpenAIEmbeddings\n",
    "from langchain_text_splitters import RecursiveCharacterTextSplitter\n",
    "\n",
    "load_dotenv()\n"
   ]
  },
  {
   "cell_type": "code",
   "execution_count": 20,
   "metadata": {},
   "outputs": [],
   "source": [
    "llm = ChatOpenAI(model=\"gpt-4o-mini\")\n",
    "\n",
    "# 1. Load, chunk and index the contents of the blog to create a retriever.\n",
    "loader = WebBaseLoader(\n",
    "    web_paths=(\"https://planetsurfcamps.co.uk/history-of-surfing/#:~:text=The%20first%20surfing%20references%20were,important%20part%20of%20the%20religion.\",),\n",
    "    bs_kwargs=dict(\n",
    "        parse_only=bs4.SoupStrainer(\n",
    "            class_=(\"entry-content\")\n",
    "        )\n",
    "    ),\n",
    ")\n",
    "docs = loader.load()\n",
    "\n",
    "text_splitter = RecursiveCharacterTextSplitter(chunk_size=1000, chunk_overlap=200)\n",
    "splits = text_splitter.split_documents(docs)\n",
    "vectorstore = Chroma.from_documents(documents=splits, embedding=OpenAIEmbeddings())\n",
    "retriever = vectorstore.as_retriever()\n"
   ]
  },
  {
   "cell_type": "code",
   "execution_count": 32,
   "metadata": {},
   "outputs": [],
   "source": [
    "from langchain.chains import create_history_aware_retriever\n",
    "from langchain_core.prompts import MessagesPlaceholder\n",
    "\n",
    "system_prompt = (\n",
    "    \"You are an assistant for question-answering tasks. \"\n",
    "    \"Use the following pieces of retrieved context to answer \"\n",
    "    \"the question. If you don't know the answer, say that you \"\n",
    "    \"don't know. Use three sentences maximum and keep the \"\n",
    "    \"answer concise.\"\n",
    "    \"\\n\\n\"\n",
    "    \"{context}\"\n",
    ")\n",
    "\n",
    "contextualize_q_system_prompt = (\n",
    "    \"Given a chat history and the latest user question \"\n",
    "    \"which might reference context in the chat history, \"\n",
    "    \"formulate a standalone question which can be understood \"\n",
    "    \"without the chat history. Do NOT answer the question, \"\n",
    "    \"just reformulate it if needed and otherwise return it as is.\"\n",
    ")\n",
    "\n",
    "contextualize_q_prompt = ChatPromptTemplate.from_messages(\n",
    "    [\n",
    "        (\"system\", contextualize_q_system_prompt),\n",
    "        MessagesPlaceholder(\"chat_history\"),\n",
    "        (\"human\", \"{input}\"),\n",
    "    ]\n",
    ")\n",
    "history_aware_retriever = create_history_aware_retriever(\n",
    "    llm, retriever, contextualize_q_prompt\n",
    ")"
   ]
  },
  {
   "cell_type": "code",
   "execution_count": 39,
   "metadata": {},
   "outputs": [],
   "source": [
    "from langchain.chains import create_retrieval_chain\n",
    "from langchain.chains.combine_documents import create_stuff_documents_chain\n",
    "\n",
    "qa_prompt = ChatPromptTemplate.from_messages(\n",
    "    [\n",
    "        (\"system\", system_prompt),\n",
    "        MessagesPlaceholder(\"chat_history\"),\n",
    "        (\"human\", \"{input}\"),\n",
    "    ]\n",
    ")\n",
    "\n",
    "question_answer_chain = create_stuff_documents_chain(llm, qa_prompt)\n",
    "\n",
    "rag_chain = create_retrieval_chain(history_aware_retriever, question_answer_chain)"
   ]
  },
  {
   "cell_type": "code",
   "execution_count": 45,
   "metadata": {},
   "outputs": [],
   "source": [
    "from langchain_community.chat_message_histories import ChatMessageHistory\n",
    "from langchain_core.chat_history import BaseChatMessageHistory\n",
    "from langchain_core.runnables.history import RunnableWithMessageHistory\n",
    "\n",
    "### Statefully manage chat history ###\n",
    "store = {}\n",
    "\n",
    "def get_session_history(session_id: str) -> BaseChatMessageHistory:\n",
    "    if session_id not in store:\n",
    "        store[session_id] = ChatMessageHistory()\n",
    "    return store[session_id]\n",
    "\n",
    "conversational_rag_chain = RunnableWithMessageHistory(\n",
    "    rag_chain,\n",
    "    get_session_history,\n",
    "    input_messages_key=\"input\",\n",
    "    history_messages_key=\"chat_history\",\n",
    "    output_messages_key=\"answer\",\n",
    ")\n",
    "\n"
   ]
  },
  {
   "cell_type": "code",
   "execution_count": 50,
   "metadata": {},
   "outputs": [
    {
     "data": {
      "text/plain": [
       "'In the beginnings, people surfed in Polynesia, as indicated by cave paintings. The sport was later brought to Hawaii by Polynesians, where it became an integral part of the culture.'"
      ]
     },
     "execution_count": 50,
     "metadata": {},
     "output_type": "execute_result"
    }
   ],
   "source": [
    "conversational_rag_chain.invoke(\n",
    "    {\"input\": \"Where the people surf in the beginnings?\"},\n",
    "    config={\n",
    "        \"configurable\": {\"session_id\": \"abc123\"}\n",
    "    },  # constructs a key \"abc123\" in `store`.\n",
    ")[\"answer\"]"
   ]
  },
  {
   "cell_type": "code",
   "execution_count": 54,
   "metadata": {},
   "outputs": [
    {
     "name": "stdout",
     "output_type": "stream",
     "text": [
      "[HumanMessage(content='Where the people surf in the beginnings?'), AIMessage(content='In the beginnings, people surfed in Polynesia, with early references found in cave paintings. Polynesians later brought surfing to Hawaii, where it became an important cultural and religious activity. Surfing was practiced by everyone in Hawaii, including men, women, children, and even kings.'), HumanMessage(content='How big are the waves there?'), AIMessage(content=\"The retrieved context does not provide specific information about the size of the waves in Hawaii or Polynesia. Therefore, I don't know the answer.\"), HumanMessage(content='And where is it?'), AIMessage(content='Hawaii is an archipelago located in the central Pacific Ocean, while Polynesia refers to a larger region in the Pacific that includes numerous islands, including Hawaii. Polynesia is situated southeast of Asia and northeast of Australia.'), HumanMessage(content='Where the people surf in the beginnings?'), AIMessage(content='In the beginnings, people surfed in Polynesia, with early references found in cave paintings. Polynesians later brought surfing to Hawaii, where it became a significant cultural activity.'), HumanMessage(content='Where the people surf in the beginnings?'), AIMessage(content='In the beginnings, people surfed in Polynesia, as indicated by cave paintings. The sport was later brought to Hawaii by Polynesians, where it became an integral part of the culture.'), HumanMessage(content='And where is it?'), AIMessage(content='Hawaii is located in the central Pacific Ocean, while Polynesia is a larger region in the Pacific that includes several island groups, including Hawaii. Polynesia is situated southeast of Asia and northeast of Australia.'), HumanMessage(content='And where is it?'), AIMessage(content='Hawaii is located in the central Pacific Ocean. Polynesia, which includes Hawaii, is situated southeast of Asia and northeast of Australia.'), HumanMessage(content='And where is it?'), AIMessage(content='Hawaii is located in the central Pacific Ocean. It is part of the larger region known as Polynesia, which comprises many islands scattered across the Pacific.'), HumanMessage(content='And where is it?'), AIMessage(content='Hawaii is located in the central Pacific Ocean. It is part of the Polynesian region, which includes various islands in this area.')]\n"
     ]
    }
   ],
   "source": [
    "conversational_rag_chain.invoke(\n",
    "    {\"input\": \"And where is it?\"},\n",
    "    config={\"configurable\": {\"session_id\": \"abc123\"}},\n",
    ")[\"answer\"]"
   ]
  },
  {
   "cell_type": "code",
   "execution_count": 55,
   "metadata": {},
   "outputs": [
    {
     "name": "stdout",
     "output_type": "stream",
     "text": [
      "Human: Where the people surf in the beginnings?\n",
      "\n",
      "AI: In the beginnings, people surfed in Polynesia, with early references found in cave paintings. Polynesians later brought surfing to Hawaii, where it became an important cultural and religious activity. Surfing was practiced by everyone in Hawaii, including men, women, children, and even kings.\n",
      "\n",
      "Human: How big are the waves there?\n",
      "\n",
      "AI: The retrieved context does not provide specific information about the size of the waves in Hawaii or Polynesia. Therefore, I don't know the answer.\n",
      "\n",
      "Human: And where is it?\n",
      "\n",
      "AI: Hawaii is an archipelago located in the central Pacific Ocean, while Polynesia refers to a larger region in the Pacific that includes numerous islands, including Hawaii. Polynesia is situated southeast of Asia and northeast of Australia.\n",
      "\n",
      "Human: Where the people surf in the beginnings?\n",
      "\n",
      "AI: In the beginnings, people surfed in Polynesia, with early references found in cave paintings. Polynesians later brought surfing to Hawaii, where it became a significant cultural activity.\n",
      "\n",
      "Human: Where the people surf in the beginnings?\n",
      "\n",
      "AI: In the beginnings, people surfed in Polynesia, as indicated by cave paintings. The sport was later brought to Hawaii by Polynesians, where it became an integral part of the culture.\n",
      "\n",
      "Human: And where is it?\n",
      "\n",
      "AI: Hawaii is located in the central Pacific Ocean, while Polynesia is a larger region in the Pacific that includes several island groups, including Hawaii. Polynesia is situated southeast of Asia and northeast of Australia.\n",
      "\n",
      "Human: And where is it?\n",
      "\n",
      "AI: Hawaii is located in the central Pacific Ocean. Polynesia, which includes Hawaii, is situated southeast of Asia and northeast of Australia.\n",
      "\n",
      "Human: And where is it?\n",
      "\n",
      "AI: Hawaii is located in the central Pacific Ocean. It is part of the larger region known as Polynesia, which comprises many islands scattered across the Pacific.\n",
      "\n",
      "Human: And where is it?\n",
      "\n",
      "AI: Hawaii is located in the central Pacific Ocean. It is part of the Polynesian region, which includes various islands in this area.\n",
      "\n"
     ]
    }
   ],
   "source": [
    "# Obtener el historial de mensajes de la sesión\n",
    "messages = conversational_rag_chain.get_session_history(\"abc123\").messages\n",
    "\n",
    "# Formatear y presentar los mensajes\n",
    "for i, message in enumerate(messages):\n",
    "    if isinstance(message, HumanMessage):\n",
    "        print(f\"Human: {message.content}\")\n",
    "    elif isinstance(message, AIMessage):\n",
    "        print(f\"AI: {message.content}\")\n",
    "    print()  # Añade una línea en blanco entre cada par de mensajes"
   ]
  }
 ],
 "metadata": {
  "kernelspec": {
   "display_name": ".venv",
   "language": "python",
   "name": "python3"
  },
  "language_info": {
   "codemirror_mode": {
    "name": "ipython",
    "version": 3
   },
   "file_extension": ".py",
   "mimetype": "text/x-python",
   "name": "python",
   "nbconvert_exporter": "python",
   "pygments_lexer": "ipython3",
   "version": "3.9.19"
  }
 },
 "nbformat": 4,
 "nbformat_minor": 2
}
